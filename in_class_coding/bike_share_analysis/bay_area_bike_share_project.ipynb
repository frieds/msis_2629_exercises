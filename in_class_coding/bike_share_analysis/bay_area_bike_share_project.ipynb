{
 "cells": [
  {
   "cell_type": "markdown",
   "metadata": {},
   "source": [
    "Title: Sample Project Start: Bay Area Bike Share Data\n",
    "Slug: sample-project-msis-2629\n",
    "Summary: 2018 summer MSIS 2629 sample bay area bike share data project\n",
    "Date: 2018-06-24 17:00\n",
    "Category: Teaching\n",
    "PostType: Project\n",
    "Tags: santa clara university\n",
    "Keywords: sample project start msis 2629\n",
    "Authors: Dan Friedman"
   ]
  },
  {
   "cell_type": "markdown",
   "metadata": {},
   "source": [
    "### Thought Process"
   ]
  },
  {
   "cell_type": "markdown",
   "metadata": {},
   "source": [
    "\n",
    "1. Construct hypotheses on questions I want answered about this dataset.\n",
    "2. Understand the fields, values, and number of observations.\n",
    "3. Clean only what's needed to answer one question.\n",
    "4. Test your hypothesis by extracting metrics and visualizing results. Try prototyping simple visualizations in Pandas Plot.\n",
    "5. Repeat steps 1-4 as many times as need to answer your questions\n",
    "6. Incorporate a similar dataset for comparison to tell a more interesting story.\n",
    "7. Improve upon your initial visualizations to include the additional dataset and/or tell a more interesting story. Ideally use a level of benchmarking and/or interaction in your visualizations."
   ]
  },
  {
   "cell_type": "markdown",
   "metadata": {},
   "source": [
    "### Hypotheses"
   ]
  },
  {
   "cell_type": "markdown",
   "metadata": {},
   "source": [
    "Sorted from easiest to most difficult.\n",
    "\n",
    "- What dataset?\n",
    "- Regular vs subscription users\n",
    "- Popularity of rides by day of week\n",
    "- Busiest dock?\n",
    "- Popularity of bike rides by hour of day\n",
    "- Which routes are most popular?\n",
    "- Average miles covered on weekdays versus weekend rides\n",
    "- Any bicycles broken?\n",
    "\n",
    "\n",
    "**New dataset**\n",
    "- Trends with BART dataset? Usage of one type of rides versus the other"
   ]
  },
  {
   "cell_type": "markdown",
   "metadata": {},
   "source": [
    "### Import Modules"
   ]
  },
  {
   "cell_type": "code",
   "execution_count": 20,
   "metadata": {},
   "outputs": [],
   "source": [
    "import pandas as pd\n",
    "import numpy as np\n",
    "from datetime import date\n",
    "import matplotlib.pyplot as plt\n",
    "%matplotlib inline"
   ]
  },
  {
   "cell_type": "markdown",
   "metadata": {},
   "source": [
    "### Read in Data"
   ]
  },
  {
   "cell_type": "code",
   "execution_count": 21,
   "metadata": {},
   "outputs": [],
   "source": [
    "df = pd.read_csv('201805-fordgobike-trip-data.csv')"
   ]
  },
  {
   "cell_type": "markdown",
   "metadata": {},
   "source": [
    "### Check Fields of Data"
   ]
  },
  {
   "cell_type": "code",
   "execution_count": 22,
   "metadata": {},
   "outputs": [
    {
     "name": "stdout",
     "output_type": "stream",
     "text": [
      "<class 'pandas.core.frame.DataFrame'>\n",
      "RangeIndex: 179125 entries, 0 to 179124\n",
      "Data columns (total 16 columns):\n",
      "duration_sec               179125 non-null int64\n",
      "start_time                 179125 non-null object\n",
      "end_time                   179125 non-null object\n",
      "start_station_id           179125 non-null int64\n",
      "start_station_name         179125 non-null object\n",
      "start_station_latitude     179125 non-null float64\n",
      "start_station_longitude    179125 non-null float64\n",
      "end_station_id             179125 non-null int64\n",
      "end_station_name           179125 non-null object\n",
      "end_station_latitude       179125 non-null float64\n",
      "end_station_longitude      179125 non-null float64\n",
      "bike_id                    179125 non-null int64\n",
      "user_type                  179125 non-null object\n",
      "member_birth_year          167376 non-null float64\n",
      "member_gender              167413 non-null object\n",
      "bike_share_for_all_trip    179125 non-null object\n",
      "dtypes: float64(5), int64(4), object(7)\n",
      "memory usage: 21.9+ MB\n"
     ]
    }
   ],
   "source": [
    "df.info()"
   ]
  },
  {
   "cell_type": "markdown",
   "metadata": {},
   "source": [
    "### Regular versus subscription users\n",
    "\n",
    "How many people are riding one-time (maybe tourists) versus how many are subscription paying users?\n",
    "\n",
    "Look at field `user_type`"
   ]
  },
  {
   "cell_type": "code",
   "execution_count": 23,
   "metadata": {},
   "outputs": [
    {
     "data": {
      "text/plain": [
       "Subscriber    149886\n",
       "Customer       29239\n",
       "Name: user_type, dtype: int64"
      ]
     },
     "execution_count": 23,
     "metadata": {},
     "output_type": "execute_result"
    }
   ],
   "source": [
    "df['user_type'].value_counts()"
   ]
  },
  {
   "cell_type": "markdown",
   "metadata": {},
   "source": [
    "#### Insight \n",
    "\n",
    "**Far majority of rides come from subscribers**"
   ]
  },
  {
   "cell_type": "markdown",
   "metadata": {},
   "source": [
    "### Examine Rides by Day of Week"
   ]
  },
  {
   "cell_type": "markdown",
   "metadata": {},
   "source": [
    "Convert `start_time` to datetime type and create new column called `start_time_datetime`.\n",
    "\n",
    "Documentation: http://pandas.pydata.org/pandas-docs/stable/generated/pandas.to_datetime.html"
   ]
  },
  {
   "cell_type": "code",
   "execution_count": 24,
   "metadata": {},
   "outputs": [],
   "source": [
    "df['start_time_datetime'] = pd.to_datetime(df['start_time'])"
   ]
  },
  {
   "cell_type": "markdown",
   "metadata": {},
   "source": [
    "Create a new column called `start_time_day_name` to show day name like Thursday or Friday.\n",
    "\n",
    "Documentation: http://pandas.pydata.org/pandas-docs/version/0.22/generated/pandas.Series.dt.weekday_name.html"
   ]
  },
  {
   "cell_type": "code",
   "execution_count": 25,
   "metadata": {},
   "outputs": [],
   "source": [
    "df['start_time_day_name'] = df['start_time_datetime'].dt.weekday_name"
   ]
  },
  {
   "cell_type": "markdown",
   "metadata": {},
   "source": [
    "Check we only have 7 unique values.\n",
    "\n",
    "Documentation: https://pandas.pydata.org/pandas-docs/version/0.23.1/generated/pandas.Series.unique.html"
   ]
  },
  {
   "cell_type": "code",
   "execution_count": 26,
   "metadata": {},
   "outputs": [
    {
     "data": {
      "text/plain": [
       "array(['Thursday', 'Wednesday', 'Tuesday', 'Monday', 'Sunday', 'Saturday',\n",
       "       'Friday'], dtype=object)"
      ]
     },
     "execution_count": 26,
     "metadata": {},
     "output_type": "execute_result"
    }
   ],
   "source": [
    "df['start_time_day_name'].unique()"
   ]
  },
  {
   "cell_type": "markdown",
   "metadata": {},
   "source": [
    "Keep records of rides only before May 29th so we have the same number of occurrences for all days of the week. "
   ]
  },
  {
   "cell_type": "code",
   "execution_count": 27,
   "metadata": {},
   "outputs": [],
   "source": [
    "may_29_2018 = date(2018, 5, 29)"
   ]
  },
  {
   "cell_type": "markdown",
   "metadata": {},
   "source": [
    "Let's filter by rides before May 29th and get the total count of rides on each day.\n",
    "\n",
    "Documentation date filters: https://stackoverflow.com/a/41845355/1710454\n",
    "\n",
    "Documentation groupby: https://pandas.pydata.org/pandas-docs/stable/generated/pandas.DataFrame.groupby.html\n",
    "\n",
    "Documentation size: https://pandas.pydata.org/pandas-docs/version/0.22/generated/pandas.core.groupby.GroupBy.size.html"
   ]
  },
  {
   "cell_type": "code",
   "execution_count": 28,
   "metadata": {},
   "outputs": [
    {
     "data": {
      "text/plain": [
       "start_time_day_name\n",
       "Friday       25512\n",
       "Monday       23510\n",
       "Saturday     15035\n",
       "Sunday       13644\n",
       "Thursday     27542\n",
       "Tuesday      26528\n",
       "Wednesday    26705\n",
       "dtype: int64"
      ]
     },
     "execution_count": 28,
     "metadata": {},
     "output_type": "execute_result"
    }
   ],
   "source": [
    "df[df['start_time_datetime']<may_29_2018].groupby(by='start_time_day_name').size()"
   ]
  },
  {
   "cell_type": "markdown",
   "metadata": {},
   "source": [
    "Sort series values from least to greatest.\n",
    "\n",
    "Documentation: https://pandas.pydata.org/pandas-docs/stable/generated/pandas.DataFrame.sort_values.html"
   ]
  },
  {
   "cell_type": "code",
   "execution_count": 29,
   "metadata": {},
   "outputs": [
    {
     "data": {
      "text/plain": [
       "start_time_day_name\n",
       "Sunday       13644\n",
       "Saturday     15035\n",
       "Monday       23510\n",
       "Friday       25512\n",
       "Tuesday      26528\n",
       "Wednesday    26705\n",
       "Thursday     27542\n",
       "dtype: int64"
      ]
     },
     "execution_count": 29,
     "metadata": {},
     "output_type": "execute_result"
    }
   ],
   "source": [
    "df[df['start_time_datetime']<may_29_2018].groupby(by='start_time_day_name').size().sort_values()"
   ]
  },
  {
   "cell_type": "markdown",
   "metadata": {},
   "source": [
    "Create bar plot of count of rides by day of week."
   ]
  },
  {
   "cell_type": "code",
   "execution_count": 30,
   "metadata": {},
   "outputs": [
    {
     "data": {
      "image/png": "[encoded data removed]",
      "text/plain": [
       "<matplotlib.figure.Figure at 0x116b7eb38>"
      ]
     },
     "metadata": {},
     "output_type": "display_data"
    }
   ],
   "source": [
    "df[df['start_time_datetime']<may_29_2018].groupby(by='start_time_day_name').size().sort_values().plot(kind='barh', figsize=(10, 8), color='salmon')\n",
    "plt.ylabel(\"day of week\")\n",
    "plt.xlabel(\"count of rides\")\n",
    "plt.title(\"Count of Rides by Day of Week in First 28 Days of May\");"
   ]
  },
  {
   "cell_type": "markdown",
   "metadata": {},
   "source": [
    "#### Insights \n",
    "\n",
    "**There's a fairly uniform spread of total rides from Monday-Friday, each with about 25000 rides.**\n",
    "\n",
    "**There's a uniform spread of rides on Saturdays and Sundays too. Each day had roughly 14000 rides in May.**"
   ]
  },
  {
   "cell_type": "markdown",
   "metadata": {},
   "source": [
    "### Busiest Dock\n",
    "\n",
    "After each ride, bikes are docked at a station. I want to get a sense of the most popular stations bikes start at."
   ]
  },
  {
   "cell_type": "code",
   "execution_count": 31,
   "metadata": {},
   "outputs": [
    {
     "data": {
      "text/plain": [
       "start_station_name\n",
       "San Francisco Ferry Building (Harry Bridges Plaza)           3851\n",
       "Montgomery St BART Station (Market St at 2nd St)             3523\n",
       "San Francisco Caltrain Station 2  (Townsend St at 4th St)    3510\n",
       "The Embarcadero at Sansome St                                3255\n",
       "Berry St at 4th St                                           3236\n",
       "San Francisco Caltrain (Townsend St at 4th St)               3220\n",
       "Market St at 10th St                                         3154\n",
       "Powell St BART Station (Market St at 4th St)                 3122\n",
       "Powell St BART Station (Market St at 5th St)                 2590\n",
       "Steuart St at Market St                                      2575\n",
       "dtype: int64"
      ]
     },
     "execution_count": 31,
     "metadata": {},
     "output_type": "execute_result"
    }
   ],
   "source": [
    "df.groupby('start_station_name').size().sort_values(ascending=False).head(10)"
   ]
  },
  {
   "cell_type": "code",
   "execution_count": 32,
   "metadata": {},
   "outputs": [
    {
     "data": {
      "image/png": "[encoded data removed]",
      "text/plain": [
       "<matplotlib.figure.Figure at 0x1131aeb00>"
      ]
     },
     "metadata": {},
     "output_type": "display_data"
    }
   ],
   "source": [
    "df.groupby('start_station_name').size().sort_values(ascending=False).head(10).plot(kind='barh', color='blueviolet', figsize=(10, 8))                                                                          \n",
    "plt.xlabel(\"count of rides\")\n",
    "plt.xlabel(\"start station name\")\n",
    "plt.title(\"Count of Rides Starting from Docks\");"
   ]
  },
  {
   "cell_type": "markdown",
   "metadata": {},
   "source": [
    "#### Insights\n",
    "\n",
    "**Most rides start from docks located in SoMa - often around BART, Caltrain or popular tourist destinations like the Ferry Building.**"
   ]
  },
  {
   "cell_type": "markdown",
   "metadata": {},
   "source": [
    "### Bike Ride Popularity by Hour of Day"
   ]
  },
  {
   "cell_type": "markdown",
   "metadata": {},
   "source": [
    "Extract the hour value of the datetime and cast it as new column called `start_time_hour`.\n",
    "\n",
    "Documentation: http://pandas.pydata.org/pandas-docs/version/0.23/generated/pandas.Series.dt.hour.html"
   ]
  },
  {
   "cell_type": "code",
   "execution_count": 33,
   "metadata": {},
   "outputs": [],
   "source": [
    "df['start_time_hour'] = df['start_time_datetime'].dt.hour"
   ]
  },
  {
   "cell_type": "markdown",
   "metadata": {},
   "source": [
    "Verify there's 24 unique values in `start_time_hour` - should be 0 to 23."
   ]
  },
  {
   "cell_type": "code",
   "execution_count": 34,
   "metadata": {},
   "outputs": [
    {
     "data": {
      "text/plain": [
       "array([21, 18, 14, 16, 23, 20, 22, 19, 17, 12, 11,  9,  8, 13, 15, 10,  7,\n",
       "        6,  5,  4,  3,  2,  1,  0])"
      ]
     },
     "execution_count": 34,
     "metadata": {},
     "output_type": "execute_result"
    }
   ],
   "source": [
    "df['start_time_hour'].unique()"
   ]
  },
  {
   "cell_type": "code",
   "execution_count": 35,
   "metadata": {},
   "outputs": [
    {
     "data": {
      "image/png": "[encoded data removed]",
      "text/plain": [
       "<matplotlib.figure.Figure at 0x119d422e8>"
      ]
     },
     "metadata": {},
     "output_type": "display_data"
    }
   ],
   "source": [
    "df.groupby('start_time_hour').size().plot(kind='bar', figsize=(10, 8), color='teal')\n",
    "plt.ylabel(\"count of rides\")\n",
    "plt.xticks(rotation=0)\n",
    "plt.xlabel(\"start time hour of day (0=12am and 12=12pm)\")\n",
    "plt.title(\"Count of Rides by Hour of Day\");"
   ]
  },
  {
   "cell_type": "markdown",
   "metadata": {},
   "source": [
    "#### Insights\n",
    "\n",
    "**Most rides take place during standard work commute hours of 8am and 6pm. It's a bimodal distribution.**"
   ]
  },
  {
   "cell_type": "markdown",
   "metadata": {},
   "source": [
    "### Next Steps"
   ]
  },
  {
   "cell_type": "markdown",
   "metadata": {},
   "source": [
    "- Hone in the hypotheses to a more focused topic - perhaps around just subscribers versus one-time riders, activity of males versus females, rides by weekends versus weekdays, or something else.\n",
    "- Incorporate additional dataset on ride patterns with BART data or open source weather data.\n",
    "- Try utilizing more advanced/interesting visualizations to tell a story."
   ]
  },
  {
   "cell_type": "code",
   "execution_count": null,
   "metadata": {},
   "outputs": [],
   "source": []
  }
 ],
 "metadata": {
  "kernelspec": {
   "display_name": "Python 3",
   "language": "python",
   "name": "python3"
  },
  "language_info": {
   "codemirror_mode": {
    "name": "ipython",
    "version": 3
   },
   "file_extension": ".py",
   "mimetype": "text/x-python",
   "name": "python",
   "nbconvert_exporter": "python",
   "pygments_lexer": "ipython3",
   "version": "3.6.0"
  }
 },
 "nbformat": 4,
 "nbformat_minor": 2
}
