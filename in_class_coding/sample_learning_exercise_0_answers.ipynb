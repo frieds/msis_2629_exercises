{
 "cells": [
  {
   "cell_type": "markdown",
   "metadata": {},
   "source": [
    "Title: Sample Learning Exercise 0 with Answers\n",
    "Slug: sample-learning-exercise-0-answers\n",
    "Summary: Sample learning class exercise given as practice to take home with answers included\n",
    "Date: 2018-07-23 12:00  \n",
    "Category: Teaching\n",
    "PostType: Answer Guide\n",
    "Tags: line plot, benchmarking\n",
    "Keywords: learning exercise 0\n",
    "Authors: Dan Friedman"
   ]
  },
  {
   "cell_type": "markdown",
   "metadata": {},
   "source": [
    "### Import Modules"
   ]
  },
  {
   "cell_type": "code",
   "execution_count": 17,
   "metadata": {},
   "outputs": [],
   "source": [
    "import pandas as pd\n",
    "import numpy as np\n",
    "import seaborn as sns\n",
    "import matplotlib.pyplot as plt\n",
    "% matplotlib inline"
   ]
  },
  {
   "cell_type": "markdown",
   "metadata": {},
   "source": [
    "#### Set Visualization Styles"
   ]
  },
  {
   "cell_type": "code",
   "execution_count": 18,
   "metadata": {},
   "outputs": [],
   "source": [
    "sns.set_context(\"talk\")\n",
    "sns.set_style(\"darkgrid\")"
   ]
  },
  {
   "cell_type": "markdown",
   "metadata": {},
   "source": [
    "### Grading Rubric\n",
    "\n",
    "Creation of visualizations are each worth 3 points. All other questions are 1 point each. It's possible to get partial-credit on the visualizations if you present work close to the best answer."
   ]
  },
  {
   "cell_type": "markdown",
   "metadata": {},
   "source": [
    "### Flights Dataset\n",
    "\n",
    "This dataset includes the total count of passengers on airline flights for each month from 1949 to 1960."
   ]
  },
  {
   "cell_type": "markdown",
   "metadata": {},
   "source": [
    "### Question 1: Read in dataset using Seaborn and assign to variable"
   ]
  },
  {
   "cell_type": "markdown",
   "metadata": {},
   "source": [
    "You can use this code snippet to read in the dataset: `sns.load_dataset('flights')`"
   ]
  },
  {
   "cell_type": "code",
   "execution_count": 3,
   "metadata": {},
   "outputs": [],
   "source": [
    "df = sns.load_dataset('flights')"
   ]
  },
  {
   "cell_type": "markdown",
   "metadata": {},
   "source": [
    "### Question 2: How many records/rows are in this dataset?\n",
    "\n",
    "Please programatically print the value."
   ]
  },
  {
   "cell_type": "code",
   "execution_count": 4,
   "metadata": {},
   "outputs": [
    {
     "data": {
      "text/plain": [
       "144"
      ]
     },
     "execution_count": 4,
     "metadata": {},
     "output_type": "execute_result"
    }
   ],
   "source": [
    "len(df)"
   ]
  },
  {
   "cell_type": "markdown",
   "metadata": {},
   "source": [
    "### Print a DataFrame of 3 columns: year, month and count of passengers but *only* for the months of December\n",
    "\n",
    "You will need filter the DataFrame to just view rows where a condition is met (month is equal to December). You can learn how to do that on <a href='https://chrisalbon.com/python/data_wrangling/filter_dataframes/' rel='nofollow'>Chris Albon's tutorial</a>."
   ]
  },
  {
   "cell_type": "code",
   "execution_count": 5,
   "metadata": {},
   "outputs": [
    {
     "data": {
      "text/html": [
       "<div>\n",
       "<table border=\"1\" class=\"dataframe\">\n",
       "  <thead>\n",
       "    <tr style=\"text-align: right;\">\n",
       "      <th></th>\n",
       "      <th>year</th>\n",
       "      <th>month</th>\n",
       "      <th>passengers</th>\n",
       "    </tr>\n",
       "  </thead>\n",
       "  <tbody>\n",
       "    <tr>\n",
       "      <th>11</th>\n",
       "      <td>1949</td>\n",
       "      <td>December</td>\n",
       "      <td>118</td>\n",
       "    </tr>\n",
       "    <tr>\n",
       "      <th>23</th>\n",
       "      <td>1950</td>\n",
       "      <td>December</td>\n",
       "      <td>140</td>\n",
       "    </tr>\n",
       "    <tr>\n",
       "      <th>35</th>\n",
       "      <td>1951</td>\n",
       "      <td>December</td>\n",
       "      <td>166</td>\n",
       "    </tr>\n",
       "    <tr>\n",
       "      <th>47</th>\n",
       "      <td>1952</td>\n",
       "      <td>December</td>\n",
       "      <td>194</td>\n",
       "    </tr>\n",
       "    <tr>\n",
       "      <th>59</th>\n",
       "      <td>1953</td>\n",
       "      <td>December</td>\n",
       "      <td>201</td>\n",
       "    </tr>\n",
       "    <tr>\n",
       "      <th>71</th>\n",
       "      <td>1954</td>\n",
       "      <td>December</td>\n",
       "      <td>229</td>\n",
       "    </tr>\n",
       "    <tr>\n",
       "      <th>83</th>\n",
       "      <td>1955</td>\n",
       "      <td>December</td>\n",
       "      <td>278</td>\n",
       "    </tr>\n",
       "    <tr>\n",
       "      <th>95</th>\n",
       "      <td>1956</td>\n",
       "      <td>December</td>\n",
       "      <td>306</td>\n",
       "    </tr>\n",
       "    <tr>\n",
       "      <th>107</th>\n",
       "      <td>1957</td>\n",
       "      <td>December</td>\n",
       "      <td>336</td>\n",
       "    </tr>\n",
       "    <tr>\n",
       "      <th>119</th>\n",
       "      <td>1958</td>\n",
       "      <td>December</td>\n",
       "      <td>337</td>\n",
       "    </tr>\n",
       "    <tr>\n",
       "      <th>131</th>\n",
       "      <td>1959</td>\n",
       "      <td>December</td>\n",
       "      <td>405</td>\n",
       "    </tr>\n",
       "    <tr>\n",
       "      <th>143</th>\n",
       "      <td>1960</td>\n",
       "      <td>December</td>\n",
       "      <td>432</td>\n",
       "    </tr>\n",
       "  </tbody>\n",
       "</table>\n",
       "</div>"
      ],
      "text/plain": [
       "     year     month  passengers\n",
       "11   1949  December         118\n",
       "23   1950  December         140\n",
       "35   1951  December         166\n",
       "47   1952  December         194\n",
       "59   1953  December         201\n",
       "71   1954  December         229\n",
       "83   1955  December         278\n",
       "95   1956  December         306\n",
       "107  1957  December         336\n",
       "119  1958  December         337\n",
       "131  1959  December         405\n",
       "143  1960  December         432"
      ]
     },
     "execution_count": 5,
     "metadata": {},
     "output_type": "execute_result"
    }
   ],
   "source": [
    "df[df['month']=='December']"
   ]
  },
  {
   "cell_type": "markdown",
   "metadata": {},
   "source": [
    "### Plot the count of passengers on the flights in December (of each year) over time\n",
    "\n",
    "- This should be a bar graph because each year's December count of passengers essentially represents a summed-up or total value of all passengers. (Alternatively, it could be a line plot but I prefer bar plots for this situation.)\n",
    "- x-axis ticks each represent December for a specific year\n",
    "- on the x-axis, years should progress from left to right in increasing order from 1949 to 1960\n",
    "- y-axis should be the count of passengers for flights\n",
    "- please make the figure size larger than the default\n",
    "- please provide a proper label for the title, x-label and y-label\n",
    "- please make the font larger for default on the x-ticks, y-ticks, x-label, y-label and title so it's more easily readable\n",
    "- change the color of the bars to a different dark color (not the default blue)\n",
    "\n",
    "Hint: you can use Pandas Plot from the <a href='https://pandas.pydata.org/pandas-docs/stable/generated/pandas.DataFrame.plot.html' rel='nofollow'>documentation at this page</a>. Use the `kind` argument to pass in a value of `bar`.\n",
    "\n",
    "Hint: if you use Matplotlib, Pandas Plot or Seaborn, you can use `sns.set_context(\"poster\")` or `sns.set_context('talk')` to make *nearly all* parts of the plot larger. See the <a href='https://seaborn.pydata.org/tutorial/aesthetics.html' rel='nofollow'>documentation here</a>.\n",
    "\n",
    "Hint: you can see available colors for bars at <a href='https://matplotlib.org/examples/color/named_colors.html' rel='nofollow'>this documentation page</a>. "
   ]
  },
  {
   "cell_type": "code",
   "execution_count": 6,
   "metadata": {},
   "outputs": [
    {
     "data": {
      "image/png": "[encoded data removed]",
      "text/plain": [
       "<matplotlib.figure.Figure at 0x10e21c4e0>"
      ]
     },
     "metadata": {},
     "output_type": "display_data"
    }
   ],
   "source": [
    "df[df['month']=='December'].set_index('year')['passengers'].plot(kind='bar', color='cadetblue', figsize=(14, 10), rot=0)\n",
    "plt.xlabel(\"Year (for the month of December only)\", labelpad=12)\n",
    "plt.ylabel(\"Count of Passengers on Flights\", labelpad=12)\n",
    "plt.title(\"Count of Passengers on Flights in the Months of December Over the Years\", y=1.01);"
   ]
  },
  {
   "cell_type": "markdown",
   "metadata": {},
   "source": [
    "### Based on the plot above, how would you describe the trend of count of passengers on flights in the month of December over time?"
   ]
  },
  {
   "cell_type": "markdown",
   "metadata": {},
   "source": [
    "With every increasing year from 1949 to 1960, there is an increasing number of passengers on flights."
   ]
  },
  {
   "cell_type": "markdown",
   "metadata": {},
   "source": [
    "### Based on looking at the plot above, which year had the most number of passengers on flights for the month of December? How many passengers were on all flights then?"
   ]
  },
  {
   "cell_type": "code",
   "execution_count": 7,
   "metadata": {},
   "outputs": [
    {
     "data": {
      "text/plain": [
       "year              1960\n",
       "month         December\n",
       "passengers         432\n",
       "Name: 143, dtype: object"
      ]
     },
     "execution_count": 7,
     "metadata": {},
     "output_type": "execute_result"
    }
   ],
   "source": [
    "df[df['month']=='December'].sort_values(by='passengers', ascending=False).iloc[0]"
   ]
  },
  {
   "cell_type": "markdown",
   "metadata": {},
   "source": [
    "1960 with 432 passengers."
   ]
  },
  {
   "cell_type": "markdown",
   "metadata": {},
   "source": [
    "### Given your original DataFrame, create a new column that's the percent change year over year for *specific months*\n",
    "\n",
    "The count of passengers for flights in December of 1949 is 118 and the count of passengers for flights in December of 1950 is 140. Therefore, the % change for count of passengers from the previous year's  same-month value is:\n",
    "\n",
    "(140-118)/140*100 = 18.65\n",
    "\n",
    "You can read more about this metric <a href='https://www.mathsisfun.com/numbers/percentage-change.html' rel='nofollow'>here</a>: \n",
    "\n",
    "Hint: you can use the `pct_change()` method in Pandas. You'll have to use the `periods` argument and set in a new value from the default. If you're not sure you used `pct_change()` correctly, you can compare the value above, 18.65%, with the value you see in your new column for December of 1950."
   ]
  },
  {
   "cell_type": "code",
   "execution_count": 8,
   "metadata": {},
   "outputs": [],
   "source": [
    "df['passengers_yearly_month_pct_change'] = df['passengers'].pct_change(periods=12)*100"
   ]
  },
  {
   "cell_type": "code",
   "execution_count": 9,
   "metadata": {},
   "outputs": [
    {
     "data": {
      "text/html": [
       "<div>\n",
       "<table border=\"1\" class=\"dataframe\">\n",
       "  <thead>\n",
       "    <tr style=\"text-align: right;\">\n",
       "      <th></th>\n",
       "      <th>year</th>\n",
       "      <th>month</th>\n",
       "      <th>passengers</th>\n",
       "      <th>passengers_yearly_month_pct_change</th>\n",
       "    </tr>\n",
       "  </thead>\n",
       "  <tbody>\n",
       "    <tr>\n",
       "      <th>11</th>\n",
       "      <td>1949</td>\n",
       "      <td>December</td>\n",
       "      <td>118</td>\n",
       "      <td>NaN</td>\n",
       "    </tr>\n",
       "    <tr>\n",
       "      <th>23</th>\n",
       "      <td>1950</td>\n",
       "      <td>December</td>\n",
       "      <td>140</td>\n",
       "      <td>18.644068</td>\n",
       "    </tr>\n",
       "    <tr>\n",
       "      <th>35</th>\n",
       "      <td>1951</td>\n",
       "      <td>December</td>\n",
       "      <td>166</td>\n",
       "      <td>18.571429</td>\n",
       "    </tr>\n",
       "    <tr>\n",
       "      <th>47</th>\n",
       "      <td>1952</td>\n",
       "      <td>December</td>\n",
       "      <td>194</td>\n",
       "      <td>16.867470</td>\n",
       "    </tr>\n",
       "    <tr>\n",
       "      <th>59</th>\n",
       "      <td>1953</td>\n",
       "      <td>December</td>\n",
       "      <td>201</td>\n",
       "      <td>3.608247</td>\n",
       "    </tr>\n",
       "    <tr>\n",
       "      <th>71</th>\n",
       "      <td>1954</td>\n",
       "      <td>December</td>\n",
       "      <td>229</td>\n",
       "      <td>13.930348</td>\n",
       "    </tr>\n",
       "    <tr>\n",
       "      <th>83</th>\n",
       "      <td>1955</td>\n",
       "      <td>December</td>\n",
       "      <td>278</td>\n",
       "      <td>21.397380</td>\n",
       "    </tr>\n",
       "    <tr>\n",
       "      <th>95</th>\n",
       "      <td>1956</td>\n",
       "      <td>December</td>\n",
       "      <td>306</td>\n",
       "      <td>10.071942</td>\n",
       "    </tr>\n",
       "    <tr>\n",
       "      <th>107</th>\n",
       "      <td>1957</td>\n",
       "      <td>December</td>\n",
       "      <td>336</td>\n",
       "      <td>9.803922</td>\n",
       "    </tr>\n",
       "    <tr>\n",
       "      <th>119</th>\n",
       "      <td>1958</td>\n",
       "      <td>December</td>\n",
       "      <td>337</td>\n",
       "      <td>0.297619</td>\n",
       "    </tr>\n",
       "    <tr>\n",
       "      <th>131</th>\n",
       "      <td>1959</td>\n",
       "      <td>December</td>\n",
       "      <td>405</td>\n",
       "      <td>20.178042</td>\n",
       "    </tr>\n",
       "    <tr>\n",
       "      <th>143</th>\n",
       "      <td>1960</td>\n",
       "      <td>December</td>\n",
       "      <td>432</td>\n",
       "      <td>6.666667</td>\n",
       "    </tr>\n",
       "  </tbody>\n",
       "</table>\n",
       "</div>"
      ],
      "text/plain": [
       "     year     month  passengers  passengers_yearly_month_pct_change\n",
       "11   1949  December         118                                 NaN\n",
       "23   1950  December         140                           18.644068\n",
       "35   1951  December         166                           18.571429\n",
       "47   1952  December         194                           16.867470\n",
       "59   1953  December         201                            3.608247\n",
       "71   1954  December         229                           13.930348\n",
       "83   1955  December         278                           21.397380\n",
       "95   1956  December         306                           10.071942\n",
       "107  1957  December         336                            9.803922\n",
       "119  1958  December         337                            0.297619\n",
       "131  1959  December         405                           20.178042\n",
       "143  1960  December         432                            6.666667"
      ]
     },
     "execution_count": 9,
     "metadata": {},
     "output_type": "execute_result"
    }
   ],
   "source": [
    "df[df['month']=='December']"
   ]
  },
  {
   "cell_type": "markdown",
   "metadata": {},
   "source": [
    "### Plot the `pct_change_increase` column over time for the months of February. % change values > 0 should be a dark blue and % change values < 0 should be red (to denote negative)\n",
    "\n",
    "- Should be a bar plot. (Alternatively, you could just put a horizontal line to represent the % change values rather than a bar - but I find a shaded bar easier to see on a plot.)\n",
    "- x-axis ticks each represent the months of February over all years provided in the dataset\n",
    "- on the x-axis, years should progress from left to right in increasing order from 1949 to 1960\n",
    "- y-axis should be % change value from the column `pct_change_increase` \n",
    "- please provide a proper label for the title, x-label and y-label\n",
    "- please make the figure size larger\n",
    "- please make the font larger for default on the x-ticks, y-ticks, x-label, y-label and title so it's more easily readable\n",
    "- for `pct_change_increase` values greater than 0, please make the bar colors a dark blue, and for bar colors less than 0, please make them red.* (explanation below)\n",
    "- only show years 1950 to 1960 (not 1949) because we have no numerical value for 1949.\n",
    "\n",
    "\n",
    "Hint: you can use Pandas Plot from the documentation at <a href='https://pandas.pydata.org/pandas-docs/stable/generated/pandas.DataFrame.plot.html' rel='nofollow'>. this page</a>. You should use the `kind` argument to pass in a value of `bar`.\n",
    "\n",
    "Hint: if you use Matplotlib, Pandas Plot or Seaborn, you can use `sns.set_context(\"poster\")` to make all parts of the plot larger.\n",
    "\n",
    "Hint: you can see available colors for bars on <a href='https://matplotlib.org/examples/color/named_colors.html' rel='nofollow'>this documentation page</a>. "
   ]
  },
  {
   "cell_type": "markdown",
   "metadata": {},
   "source": [
    "#### Hint: how to change bar colors\n",
    "\n",
    "Pandas Plot has an argument for `color`. You could pass a single value like `red` or a list of values. Hypothetically, let's say you had a bar plot with 3 bars. If you pass 3 colors to the `color` argument such as `['blue', 'red', 'blue']`, the 1st and 3rd bars will be blue and the middle bar will be red. We can use similar logic for our plot below.\n",
    "\n",
    "How do we get a list of colors like that for our plot below? First create an empty Python list to store our color values. For the `pct_change_increase` values in the month of February, we can assess if the value is greater than or less than 0. Loop over the `pct_change_increase` values; if it's greater than 0, append a value to your list of a dark blue color, otherwise append a value of red. Then, use that Python list as the value to the `color` argument in our plot method.\n",
    "\n",
    "Hint: the initial code to loop over a field is simply `for value in df['column_name']:`"
   ]
  },
  {
   "cell_type": "markdown",
   "metadata": {},
   "source": [
    "______________"
   ]
  },
  {
   "cell_type": "markdown",
   "metadata": {},
   "source": [
    "##### Side Example: Various Colors in Pandas Plot "
   ]
  },
  {
   "cell_type": "code",
   "execution_count": 10,
   "metadata": {},
   "outputs": [],
   "source": [
    "new_colors = ['blue', 'green', 'red', 'yellow', 'orange']"
   ]
  },
  {
   "cell_type": "code",
   "execution_count": 11,
   "metadata": {},
   "outputs": [
    {
     "data": {
      "image/png": "[encoded data removed]",
      "text/plain": [
       "<matplotlib.figure.Figure at 0x10aab3ac8>"
      ]
     },
     "metadata": {},
     "output_type": "display_data"
    }
   ],
   "source": [
    "df[(df['month']=='February') & (df['year']>1955)].set_index('year')['passengers'].plot(kind='bar',\n",
    "                                                                                      color=new_colors);"
   ]
  },
  {
   "cell_type": "markdown",
   "metadata": {},
   "source": [
    "_________"
   ]
  },
  {
   "cell_type": "code",
   "execution_count": 12,
   "metadata": {},
   "outputs": [
    {
     "data": {
      "text/html": [
       "<div>\n",
       "<table border=\"1\" class=\"dataframe\">\n",
       "  <thead>\n",
       "    <tr style=\"text-align: right;\">\n",
       "      <th></th>\n",
       "      <th>year</th>\n",
       "      <th>month</th>\n",
       "      <th>passengers</th>\n",
       "      <th>passengers_yearly_month_pct_change</th>\n",
       "    </tr>\n",
       "  </thead>\n",
       "  <tbody>\n",
       "    <tr>\n",
       "      <th>1</th>\n",
       "      <td>1949</td>\n",
       "      <td>February</td>\n",
       "      <td>118</td>\n",
       "      <td>NaN</td>\n",
       "    </tr>\n",
       "    <tr>\n",
       "      <th>13</th>\n",
       "      <td>1950</td>\n",
       "      <td>February</td>\n",
       "      <td>126</td>\n",
       "      <td>6.779661</td>\n",
       "    </tr>\n",
       "    <tr>\n",
       "      <th>25</th>\n",
       "      <td>1951</td>\n",
       "      <td>February</td>\n",
       "      <td>150</td>\n",
       "      <td>19.047619</td>\n",
       "    </tr>\n",
       "    <tr>\n",
       "      <th>37</th>\n",
       "      <td>1952</td>\n",
       "      <td>February</td>\n",
       "      <td>180</td>\n",
       "      <td>20.000000</td>\n",
       "    </tr>\n",
       "    <tr>\n",
       "      <th>49</th>\n",
       "      <td>1953</td>\n",
       "      <td>February</td>\n",
       "      <td>196</td>\n",
       "      <td>8.888889</td>\n",
       "    </tr>\n",
       "    <tr>\n",
       "      <th>61</th>\n",
       "      <td>1954</td>\n",
       "      <td>February</td>\n",
       "      <td>188</td>\n",
       "      <td>-4.081633</td>\n",
       "    </tr>\n",
       "    <tr>\n",
       "      <th>73</th>\n",
       "      <td>1955</td>\n",
       "      <td>February</td>\n",
       "      <td>233</td>\n",
       "      <td>23.936170</td>\n",
       "    </tr>\n",
       "    <tr>\n",
       "      <th>85</th>\n",
       "      <td>1956</td>\n",
       "      <td>February</td>\n",
       "      <td>277</td>\n",
       "      <td>18.884120</td>\n",
       "    </tr>\n",
       "    <tr>\n",
       "      <th>97</th>\n",
       "      <td>1957</td>\n",
       "      <td>February</td>\n",
       "      <td>301</td>\n",
       "      <td>8.664260</td>\n",
       "    </tr>\n",
       "    <tr>\n",
       "      <th>109</th>\n",
       "      <td>1958</td>\n",
       "      <td>February</td>\n",
       "      <td>318</td>\n",
       "      <td>5.647841</td>\n",
       "    </tr>\n",
       "    <tr>\n",
       "      <th>121</th>\n",
       "      <td>1959</td>\n",
       "      <td>February</td>\n",
       "      <td>342</td>\n",
       "      <td>7.547170</td>\n",
       "    </tr>\n",
       "    <tr>\n",
       "      <th>133</th>\n",
       "      <td>1960</td>\n",
       "      <td>February</td>\n",
       "      <td>391</td>\n",
       "      <td>14.327485</td>\n",
       "    </tr>\n",
       "  </tbody>\n",
       "</table>\n",
       "</div>"
      ],
      "text/plain": [
       "     year     month  passengers  passengers_yearly_month_pct_change\n",
       "1    1949  February         118                                 NaN\n",
       "13   1950  February         126                            6.779661\n",
       "25   1951  February         150                           19.047619\n",
       "37   1952  February         180                           20.000000\n",
       "49   1953  February         196                            8.888889\n",
       "61   1954  February         188                           -4.081633\n",
       "73   1955  February         233                           23.936170\n",
       "85   1956  February         277                           18.884120\n",
       "97   1957  February         301                            8.664260\n",
       "109  1958  February         318                            5.647841\n",
       "121  1959  February         342                            7.547170\n",
       "133  1960  February         391                           14.327485"
      ]
     },
     "execution_count": 12,
     "metadata": {},
     "output_type": "execute_result"
    }
   ],
   "source": [
    "df[df['month']=='February']"
   ]
  },
  {
   "cell_type": "code",
   "execution_count": 13,
   "metadata": {},
   "outputs": [],
   "source": [
    "bar_colors = []\n",
    "\n",
    "for pct_change in df[(df['month']=='February') & (df['year']>1949)]['passengers_yearly_month_pct_change']:\n",
    "    if pct_change > 0:\n",
    "        bar_color='darkslateblue'\n",
    "    else:\n",
    "        bar_color='red'\n",
    "    bar_colors.append(bar_color)"
   ]
  },
  {
   "cell_type": "code",
   "execution_count": 14,
   "metadata": {},
   "outputs": [
    {
     "data": {
      "text/plain": [
       "['darkslateblue',\n",
       " 'darkslateblue',\n",
       " 'darkslateblue',\n",
       " 'darkslateblue',\n",
       " 'red',\n",
       " 'darkslateblue',\n",
       " 'darkslateblue',\n",
       " 'darkslateblue',\n",
       " 'darkslateblue',\n",
       " 'darkslateblue',\n",
       " 'darkslateblue']"
      ]
     },
     "execution_count": 14,
     "metadata": {},
     "output_type": "execute_result"
    }
   ],
   "source": [
    "bar_colors"
   ]
  },
  {
   "cell_type": "code",
   "execution_count": 15,
   "metadata": {},
   "outputs": [],
   "source": [
    "df_feb = df[(df['month']=='February') & (df['year']>1949)]"
   ]
  },
  {
   "cell_type": "code",
   "execution_count": 16,
   "metadata": {},
   "outputs": [
    {
     "data": {
      "image/png": "[encoded data removed]",
      "text/plain": [
       "<matplotlib.figure.Figure at 0x111e7a4e0>"
      ]
     },
     "metadata": {},
     "output_type": "display_data"
    }
   ],
   "source": [
    "df_feb.set_index('year')['passengers_yearly_month_pct_change'].plot(kind='bar',\n",
    "                                                                    figsize=(14, 10),\n",
    "                                                                    ylim=(-5, 25),\n",
    "                                                                    color=bar_colors,\n",
    "                                                                    rot=0)\n",
    "plt.xlabel(\"Year [February month data only]\", labelpad=12)\n",
    "plt.ylabel(\"Percentage change from same month of previous year\", labelpad=12)\n",
    "plt.title(\"Historical % Change for Count of Passengers on Flights in February Months\", y=1.01);"
   ]
  },
  {
   "cell_type": "code",
   "execution_count": null,
   "metadata": {},
   "outputs": [],
   "source": []
  }
 ],
 "metadata": {
  "kernelspec": {
   "display_name": "Python 3",
   "language": "python",
   "name": "python3"
  },
  "language_info": {
   "codemirror_mode": {
    "name": "ipython",
    "version": 3
   },
   "file_extension": ".py",
   "mimetype": "text/x-python",
   "name": "python",
   "nbconvert_exporter": "python",
   "pygments_lexer": "ipython3",
   "version": "3.6.0"
  }
 },
 "nbformat": 4,
 "nbformat_minor": 2
}
